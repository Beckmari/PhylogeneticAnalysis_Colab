{
  "nbformat": 4,
  "nbformat_minor": 0,
  "metadata": {
    "colab": {
      "provenance": [],
      "authorship_tag": "ABX9TyMEtxbyOSgotw5OTKP6n1XK",
      "include_colab_link": true
    },
    "kernelspec": {
      "name": "python3",
      "display_name": "Python 3"
    },
    "language_info": {
      "name": "python"
    }
  },
  "cells": [
    {
      "cell_type": "markdown",
      "metadata": {
        "id": "view-in-github",
        "colab_type": "text"
      },
      "source": [
        "<a href=\"https://colab.research.google.com/github/Beckmari/PhylogeneticAnalysis_Colab/blob/main/PhyloAnalysis.ipynb\" target=\"_parent\"><img src=\"https://colab.research.google.com/assets/colab-badge.svg\" alt=\"Open In Colab\"/></a>"
      ]
    },
    {
      "cell_type": "code",
      "execution_count": null,
      "metadata": {
        "id": "rXxIPFu9szSD"
      },
      "outputs": [],
      "source": [
        "# @title install python dependencies\n",
        "!pip install biopython\n",
        "#Importing biopython and os for safety\n",
        "import os\n",
        "import sys\n",
        "import Bio\n",
        "#Installing MAFFT using apt-get in quiet mode\n",
        "!apt-get install -qq -y mafft\n",
        "#Checking that MAFFT was succesfully installed\n",
        "!mafft --help\n",
        "#Install conda using the new conda-colab library\n",
        "!pip install -q condacolab\n",
        "import condacolab\n",
        "condacolab.install_miniconda()\n",
        "\n",
        "!conda install -c bioconda iqtree"
      ]
    },
    {
      "cell_type": "code",
      "source": [
        "# @title Enter your eMail adress for Entrez use (necassary)\n",
        "eMail = 'marius.beck@uni-siegen.de' #@param {type:\"string\"}"
      ],
      "metadata": {
        "id": "QZS27EuqtBSg"
      },
      "execution_count": null,
      "outputs": []
    },
    {
      "cell_type": "code",
      "source": [
        "# @title Mount Google drive to store data to defined storage folder\n",
        "Folder = 'PA13A3' #@param {type:\"string\"}\n",
        "import os\n",
        "from google.colab import drive\n",
        "drive.mount('/content/gdrive')\n",
        "%cd /content/gdrive/MyDrive/\n",
        "directory = os.getcwd()\n",
        "path = directory + '/' + Folder\n",
        "if os.path.isdir(Folder):\n",
        "  print(\"IMPORTANT: Directory already exists and we will use it. Otherwise choose a new file-name that doesn't exit and run this cell again!\")\n",
        "else:\n",
        "  os.mkdir(path)\n",
        "os.chdir(path)\n",
        "os.getcwd()"
      ],
      "metadata": {
        "id": "Sl2s2_metFtv"
      },
      "execution_count": null,
      "outputs": []
    },
    {
      "cell_type": "code",
      "source": [
        "# @title Enter protein sequence for blast\n",
        "Query_Sequence = \"MAKIQARFFLFLVFFTVIRNNESAEMVDAHLGKKYKLASSENFDEFMKALGVGLVTRKMG NAVSPVVELTKNDDEYTLSSSSTFKNVVLKFKPGVEFDQETPDGRKVKATITVDGNTLHE VQKDPSSGKETVIDRTFTDDEVKMVMSVDNITATRIYKIQA\" # @param {type:\"string\"}\n",
        "from Bio.Seq import Seq\n",
        "aaseq = Seq(Query_Sequence)"
      ],
      "metadata": {
        "id": "FMhA46fRtNZQ"
      },
      "execution_count": null,
      "outputs": []
    },
    {
      "cell_type": "code",
      "source": [
        "# @title Import taxIDs manually curated\n",
        "#upload file of organisms\n",
        "from google.colab import files\n",
        "uploaded = files.upload()\n",
        "key, value = list(uploaded.items())[0]\n",
        "taxdir = os.getcwd()\n",
        "taxfile = taxdir + '/' + key\n",
        "\n",
        "import openpyxl\n",
        "\n",
        "wb = openpyxl.load_workbook(taxfile)\n",
        "ws = wb.active\n",
        "my_list = list()\n",
        "\n",
        "for value in ws.iter_rows(\n",
        "    min_row=1, max_row=38, min_col=1, max_col=1,\n",
        "    values_only=True):\n",
        "    value = str(value)\n",
        "    my_list.append(value)\n",
        "\n",
        "my_list = [species.replace('(', '') for species in my_list]\n",
        "my_list = [species.replace(')', '') for species in my_list]\n",
        "my_list = [species.replace('\\'', '') for species in my_list]\n",
        "my_list = [species.replace(',', '') for species in my_list]\n",
        "taxID_list = my_list[:]"
      ],
      "metadata": {
        "id": "_5lJZKfRtOf8"
      },
      "execution_count": null,
      "outputs": []
    },
    {
      "cell_type": "code",
      "source": [
        "# @title Perfom NCBIWWW Blast and parse result by NCBIXML\n",
        "import csv\n",
        "from Bio.Blast import NCBIWWW, NCBIXML\n",
        "from Bio import SeqIO, Entrez\n",
        "Entrez.email = eMail\n",
        "PIDcut=0.35\n",
        "PCOcut = 0.75\n",
        "blast_handle = []\n",
        "\n",
        "for row in taxID_list[:]:\n",
        "    tid = str(row)\n",
        "    tid = tid + ' [ORGN]'\n",
        "    print()\n",
        "    print(tid)\n",
        "    print()\n",
        "    result_handle = NCBIWWW.qblast(\"blastp\", \"nr\", aaseq, entrez_query = tid, word_size=5, expect=0.05, hitlist_size=100, gapcosts=\"11 1\", matrix_name='BLOSUM62', filter='F', genetic_code=1)\n",
        "    blast_handle = NCBIXML.read(result_handle)\n",
        "    for alignment in blast_handle.alignments:\n",
        "        k=0\n",
        "        for hsp in alignment.hsps:\n",
        "              k = k + (hsp.query_end - hsp.query_start + 1)/len(aaseq)\n",
        "        for hsp in alignment.hsps:\n",
        "            if(hsp.identities/hsp.align_length) >= PIDcut:\n",
        "              if(k) >= PCOcut: #not matching with query coverage\n",
        "                print(\"Accession code:\", alignment.hit_id)\n",
        "                print(\"Sequence length:\", alignment.length)\n",
        "                print(\"Alignment length:\", hsp.align_length)\n",
        "                print(\"E-value:\", hsp.expect)\n",
        "                print(\"Sequence Identity [%]:\", \"{:.2f}\".format(100*hsp.identities/hsp.align_length))\n",
        "                print(\"Sequence Coverage [%]:\", \"{:.2f}\".format(100*((hsp.query_end - hsp.query_start + 1)/len(aaseq))))\n",
        "                print(\"Query Coverage [%]:\", \"{:.2f}\".format(100*(k)))\n",
        "                print()\n",
        "                print(\"query:\", hsp.query[0:60] + \"...\")\n",
        "                print(\"      \", hsp.match[0:60] + \"...\")\n",
        "                print(\"sbjct:\", hsp.sbjct[0:60] + \"...\")\n",
        "                print()\n",
        "    with open(\"sequences.fasta\", \"a\") as allhits_out:\n",
        "      for alignment in blast_handle.alignments[:20]:\n",
        "        for hsp in alignment.hsps:\n",
        "          if(hsp.identities/len(hsp.match)) >= PIDcut:\n",
        "            if(sum(c.isalpha() for c in hsp.query)/len(aaseq)) >= PCOcut:\n",
        "              print(\"Fetching protein sequence:\", alignment.hit_id)\n",
        "              fetch = Entrez.efetch(db=\"protein\", id=alignment.hit_id, rettype=\"fasta\")\n",
        "              allhits_seqs = SeqIO.read(fetch, format=\"fasta\")\n",
        "              SeqIO.write(allhits_seqs, allhits_out, \"fasta\")\n",
        "              fetch.close()\n",
        "\n",
        "    allhits_out.close()\n",
        "    result_handle.close()\n"
      ],
      "metadata": {
        "id": "FLMJfpeNt-lR"
      },
      "execution_count": null,
      "outputs": []
    },
    {
      "cell_type": "code",
      "source": [
        "# @title Create MSA\n",
        "from Bio.Align.Applications import MafftCommandline\n",
        "mafft_cline=MafftCommandline(input=\"sequences.fasta\")\n",
        "print(mafft_cline)\n",
        "stdout, stderr = mafft_cline()\n",
        "with open(\"aligned.fasta\", \"w\") as handle:\n",
        "  handle.write(stdout)\n",
        "from Bio import AlignIO\n",
        "align = AlignIO.read(\"aligned.fasta\", \"fasta\")"
      ],
      "metadata": {
        "id": "daeNwatYuZQa"
      },
      "execution_count": null,
      "outputs": []
    },
    {
      "cell_type": "code",
      "source": [
        "import sys\n",
        "from Bio import AlignIO, SeqIO\n",
        "aln = AlignIO.read(\"aligned.fasta\", \"fasta\")\n",
        "\n",
        "for fcol in range(aln.get_alignment_length()):\n",
        "  if not \"-\" in aln[:, fcol]:\n",
        "    position1 = fcol\n",
        "    print(\"First full column is {}\".format(fcol))\n",
        "    break\n",
        "for lcol in reversed(range(aln.get_alignment_length())):\n",
        "  if not \"-\" in aln[:, lcol]:\n",
        "    position2 = lcol+1\n",
        "    print(\"Last full column is {}\".format(lcol))\n",
        "    break\n",
        "\n",
        "print(\"New alignment:\")\n",
        "print(aln[:, position1:position2])\n",
        "\n",
        "with open(\"aligned_trimmed.fasta\", \"w\") as handle:\n",
        "  count = (SeqIO.write(aln[:, position1:position2], handle, \"fasta\"))\n",
        "\n",
        "trim = AlignIO.read(\"aligned_trimmed.fasta\", \"fasta\")"
      ],
      "metadata": {
        "id": "2fQgs-OWylxz"
      },
      "execution_count": null,
      "outputs": []
    },
    {
      "cell_type": "code",
      "source": [
        "#Sequence cleaner script\n",
        "#Modified from https://peterjc.github.io/wiki/Sequence_Cleaner\n",
        "from Bio import SeqIO\n",
        "\n",
        "def sequence_cleaner(fasta_file, min_length=0):\n",
        "  # Create our hash table to add the sequences\n",
        "  sequences = {}\n",
        "  # Using the Biopython fasta parse we can read our fasta input\n",
        "  for seq_record in SeqIO.parse(fasta_file, \"fasta\"):\n",
        "    # Take the current sequence\n",
        "    sequence = str(seq_record.seq).upper()\n",
        "    # Check if the current sequence is according to the user parameters\n",
        "    if (len(sequence) >= min_length):\n",
        "      # If the sequence passed in the test \"is it clean?\" and it isn't in the\n",
        "      # hash table, the sequence and its id are going to be in the hash\n",
        "        if sequence not in sequences:\n",
        "          sequences[sequence] = seq_record.id\n",
        "      # If it is already in the hash table, we're just gonna concatenate the ID\n",
        "      # of the current sequence to another one that is already in the hash table\n",
        "        else:\n",
        "          sequences[sequence] += \"_\" + seq_record.id\n",
        "\n",
        "  # Write the clean sequences\n",
        "  # Create a file in the same directory where you ran this script\n",
        "  with open(\"clear_\" + fasta_file, \"w+\") as output_file:\n",
        "  # Just read the hash table and write on the file as a fasta format\n",
        "    for sequence in sequences:\n",
        "      output_file.write(\">\" + sequences[sequence] + \"\\n\" + sequence + \"\\n\")\n",
        "  print(\"CLEAN!!!\\nPlease check clear_\" + fasta_file)"
      ],
      "metadata": {
        "id": "SguSZq_Ryu_Y"
      },
      "execution_count": null,
      "outputs": []
    },
    {
      "cell_type": "code",
      "source": [
        "sequence_cleaner('clear_aligned_trimmed.fasta', 0)"
      ],
      "metadata": {
        "id": "bPLfkn38yyiX"
      },
      "execution_count": null,
      "outputs": []
    },
    {
      "cell_type": "code",
      "source": [
        "from Bio.Phylo.TreeConstruction import DistanceCalculator\n",
        "from Bio import AlignIO\n",
        "aln = AlignIO.read(open('clear_aligned_trimmed.fasta'), 'fasta')\n",
        "calculator = DistanceCalculator('identity')\n",
        "dm = calculator.get_distance(aln)\n",
        "print(dm)"
      ],
      "metadata": {
        "id": "4BEsFzxmyqH4"
      },
      "execution_count": null,
      "outputs": []
    },
    {
      "cell_type": "code",
      "source": [
        "!iqtree -s clear_aligned_trimmed.fasta -m MFP -B 1000 -nt AUTO --prefix PA13A3"
      ],
      "metadata": {
        "id": "yBU5gNP-zGJO"
      },
      "execution_count": null,
      "outputs": []
    },
    {
      "cell_type": "code",
      "source": [
        "from Bio import Phylo\n",
        "tree = Phylo.read(\"PA13A3.contree\", \"newick\")\n",
        "Phylo.draw(tree)"
      ],
      "metadata": {
        "id": "IcBCb7abzGF4"
      },
      "execution_count": null,
      "outputs": []
    },
    {
      "cell_type": "code",
      "source": [
        "#@title Protein MSA Viewer in Google Colab\n",
        "#The following code is modified from the wonderful viewer developed by Damien Farrell\n",
        "#https://dmnfarrell.github.io/bioinformatics/bokeh-sequence-aligner\n",
        "\n",
        "#Importing all modules first\n",
        "import os, io, random\n",
        "import string\n",
        "import numpy as np\n",
        "\n",
        "from Bio.Seq import Seq\n",
        "from Bio.Align import MultipleSeqAlignment\n",
        "from Bio import AlignIO, SeqIO\n",
        "\n",
        "import panel as pn\n",
        "import panel.widgets as pnw\n",
        "pn.extension()\n",
        "\n",
        "from bokeh.plotting import figure\n",
        "from bokeh.models import ColumnDataSource, Plot, Grid, Range1d\n",
        "from bokeh.models.glyphs import Text, Rect\n",
        "from bokeh.layouts import gridplot\n",
        "\n",
        "#Setting up the amino color code according to Zappo color scheme\n",
        "def get_colors(seqs):\n",
        "    #make colors for bases in sequence\n",
        "    text = [i for s in list(seqs) for i in s]\n",
        "    #Use Zappo color scheme\n",
        "    clrs =  {'K':'red',\n",
        "             'R':'red',\n",
        "             'H':'red',\n",
        "             'D':'green',\n",
        "             'E':'green',\n",
        "             'Q':'blue',\n",
        "             'N':'blue',\n",
        "             'S':'blue',\n",
        "             'T':'blue',\n",
        "             'A':'blue',\n",
        "             'I':'blue',\n",
        "             'L':'blue',\n",
        "             'M':'blue',\n",
        "             'V':'blue',\n",
        "             'F':'orange',\n",
        "             'Y':'orange',\n",
        "             'W':'orange',\n",
        "             'C':'blue',\n",
        "             'P':'yellow',\n",
        "             'G':'orange',\n",
        "             '-':'white',\n",
        "             'X':'white'}\n",
        "    colors = [clrs[i] for i in text]\n",
        "    return colors\n",
        "\n",
        "#Setting up the MSA viewer\n",
        "def view_alignment(aln, fontsize=\"9pt\", plot_width=800):\n",
        "    \"\"\"Bokeh sequence alignment view\"\"\"\n",
        "\n",
        "    #make sequence and id lists from the aln object\n",
        "    seqs = [rec.seq for rec in (aln)]\n",
        "    ids = [rec.id for rec in aln]\n",
        "    text = [i for s in list(seqs) for i in s]\n",
        "    colors = get_colors(seqs)\n",
        "    N = len(seqs[0])\n",
        "    S = len(seqs)\n",
        "    width = .4\n",
        "\n",
        "    x = np.arange(1,N+1)\n",
        "    y = np.arange(0,S,1)\n",
        "    #creates a 2D grid of coords from the 1D arrays\n",
        "    xx, yy = np.meshgrid(x, y)\n",
        "    #flattens the arrays\n",
        "    gx = xx.ravel()\n",
        "    gy = yy.flatten()\n",
        "    #use recty for rect coords with an offset\n",
        "    recty = gy+.5\n",
        "    h= 1/S\n",
        "    #now we can create the ColumnDataSource with all the arrays\n",
        "    source = ColumnDataSource(dict(x=gx, y=gy, recty=recty, text=text, colors=colors))\n",
        "    plot_height = len(seqs)*15+50\n",
        "    x_range = Range1d(0,N+1, bounds='auto')\n",
        "    if N>100:\n",
        "        viewlen=100\n",
        "    else:\n",
        "        viewlen=N\n",
        "    #view_range is for the close up view\n",
        "    view_range = (0,viewlen)\n",
        "    tools=\"xpan, xwheel_zoom, reset, save\"\n",
        "\n",
        "    #entire sequence view (no text, with zoom)\n",
        "    p = figure(title=None, width= plot_width, height=50,\n",
        "               x_range=x_range, y_range=(0,S), tools=tools,\n",
        "               min_border=0, toolbar_location='below')\n",
        "    rects = Rect(x=\"x\", y=\"recty\",  width=1, height=1, fill_color=\"colors\",\n",
        "                 line_color=None, fill_alpha=0.6)\n",
        "    p.add_glyph(source, rects)\n",
        "    p.yaxis.visible = False\n",
        "    p.grid.visible = False\n",
        "\n",
        "    #sequence text view with ability to scroll along x axis\n",
        "    p1 = figure(title=None, width=plot_width, height=plot_height,\n",
        "                x_range=view_range, y_range=ids, tools=\"xpan,reset\",\n",
        "                min_border=0, toolbar_location='below')#, lod_factor=1)\n",
        "    glyph = Text(x=\"x\", y=\"y\", text=\"text\", text_align='center',text_color=\"black\",\n",
        "                text_font=\"monospace\",text_font_size=fontsize)\n",
        "    rects = Rect(x=\"x\", y=\"recty\",  width=1, height=1, fill_color=\"colors\",\n",
        "                line_color=None, fill_alpha=0.4)\n",
        "    p1.add_glyph(source, glyph)\n",
        "    p1.add_glyph(source, rects)\n",
        "\n",
        "    p1.grid.visible = False\n",
        "    p1.xaxis.major_label_text_font_style = \"bold\"\n",
        "    p1.yaxis.minor_tick_line_width = 0\n",
        "    p1.yaxis.major_tick_line_width = 0\n",
        "\n",
        "    p = gridplot([[p],[p1]], toolbar_location='below')\n",
        "    return p\n",
        "\n",
        "#Loading the viewer by indicating the MSA file and format to read\n",
        "#@markdown Name of the MSA file (including the filetype)\n",
        "MSAfile = 'clear_aligned_trimmed.fasta' #@param {type:\"string\"}\n",
        "MSAformat = 'fasta' #@param {type:\"string\"}\n",
        "aln = AlignIO.read(MSAfile,MSAformat)\n",
        "p = view_alignment(aln, plot_width=900)\n",
        "pn.pane.Bokeh(p)"
      ],
      "metadata": {
        "cellView": "form",
        "id": "bBJt9DSTzGCq"
      },
      "execution_count": null,
      "outputs": []
    },
    {
      "cell_type": "code",
      "source": [],
      "metadata": {
        "id": "BmNcS1-CzF8n"
      },
      "execution_count": null,
      "outputs": []
    },
    {
      "cell_type": "code",
      "source": [],
      "metadata": {
        "id": "sUhCD5v9zFzB"
      },
      "execution_count": null,
      "outputs": []
    },
    {
      "cell_type": "code",
      "source": [],
      "metadata": {
        "id": "Z3qRtq35zFhh"
      },
      "execution_count": null,
      "outputs": []
    }
  ]
}